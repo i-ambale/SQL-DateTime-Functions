{
 "cells": [
  {
   "cell_type": "markdown",
   "id": "51b1254d",
   "metadata": {},
   "source": [
    "<div align=\"right\" style=\" font-size: 80%; text-align: center; margin: 0 auto\">\n",
    "<img src=\"https://raw.githubusercontent.com/Explore-AI/Pictures/master/ExploreAI_logos/Logo blue_dark.png\"  style=\"width:25px\" align=\"right\";/>\n",
    "</div>"
   ]
  },
  {
   "cell_type": "markdown",
   "id": "f662d169",
   "metadata": {},
   "source": [
    "# SQL DateTime functions \n",
    "© ExploreAI Academy"
   ]
  },
  {
   "cell_type": "markdown",
   "id": "26af890c",
   "metadata": {},
   "source": [
    "In this exercise, we will use DateTime functions to aggregate and filter date and time data in order to extract relevant information. "
   ]
  },
  {
   "cell_type": "markdown",
   "id": "2d230d14",
   "metadata": {},
   "source": [
    "## Learning objectives\n",
    "\n",
    "By the end of this train, you should be able to:\n",
    "- Measure the period between dates and times.\n",
    "- Extract portions of a DateTime column.\n",
    "- Filter a DateTime column using logical and comparison operators."
   ]
  },
  {
   "cell_type": "markdown",
   "id": "7fd5e3b8",
   "metadata": {},
   "source": [
    "First, let's load our sample database:"
   ]
  },
  {
   "cell_type": "code",
   "execution_count": 1,
   "id": "2d0d820e",
   "metadata": {},
   "outputs": [
    {
     "name": "stderr",
     "output_type": "stream",
     "text": [
      "c:\\Users\\PC\\anaconda3\\envs\\DS_Python\\Lib\\site-packages\\pandas\\core\\arrays\\masked.py:60: UserWarning: Pandas requires version '1.3.6' or newer of 'bottleneck' (version '1.3.5' currently installed).\n",
      "  from pandas.core import (\n"
     ]
    }
   ],
   "source": [
    "# Load and activate the SQL extension to allow us to execute SQL in a Jupyter notebook.\n",
    "%load_ext sql\n"
   ]
  },
  {
   "cell_type": "code",
   "execution_count": 2,
   "id": "599e3c6c",
   "metadata": {},
   "outputs": [],
   "source": [
    "# Load the Chinook database stored in your local machine. \n",
    "# Make sure the file is saved in the same folder as this notebook.\n",
    "%sql sqlite:///chinook.db"
   ]
  },
  {
   "cell_type": "markdown",
   "id": "06af8b46",
   "metadata": {},
   "source": [
    "Here is a [view](https://www.lucidchart.com/pages/er-diagrams) of all of our tables in the database:"
   ]
  },
  {
   "cell_type": "markdown",
   "id": "e3d3c848",
   "metadata": {},
   "source": [
    "<div align=\"center\" style=\" font-size: 80%; text-align: center; margin: 0 auto\">\n",
    "<img src=\"https://github.com/Explore-AI/Pictures/blob/master/sqlite-sample-database-color.jpg?raw=true\"  style=\"width:70%\";/>\n",
    "<br>\n",
    "<br>\n",
    "    <em>Figure 1: Chinook ERD</em>\n",
    "</div>\n"
   ]
  },
  {
   "cell_type": "markdown",
   "id": "653e9dbb",
   "metadata": {},
   "source": [
    "[Image source](https://www.sqlitetutorial.net/sqlite-sample-database/)"
   ]
  },
  {
   "cell_type": "markdown",
   "id": "920e89d2",
   "metadata": {},
   "source": [
    "## Exercise\n",
    "\n",
    "Run the necessary queries that will provide us with the following information. Compare your queries with the solutions at the end of this notebook."
   ]
  },
  {
   "cell_type": "markdown",
   "id": "466e53c1",
   "metadata": {},
   "source": [
    "### Exercise 1\n",
    "\n",
    "Run a query that will give us a view of the data type of the employees table."
   ]
  },
  {
   "cell_type": "code",
   "execution_count": 3,
   "id": "038f28ea",
   "metadata": {},
   "outputs": [
    {
     "name": "stdout",
     "output_type": "stream",
     "text": [
      " * sqlite:///chinook.db\n",
      "Done.\n"
     ]
    },
    {
     "data": {
      "text/html": [
       "<table>\n",
       "    <thead>\n",
       "        <tr>\n",
       "            <th>cid</th>\n",
       "            <th>name</th>\n",
       "            <th>type</th>\n",
       "            <th>notnull</th>\n",
       "            <th>dflt_value</th>\n",
       "            <th>pk</th>\n",
       "        </tr>\n",
       "    </thead>\n",
       "    <tbody>\n",
       "        <tr>\n",
       "            <td>0</td>\n",
       "            <td>EmployeeId</td>\n",
       "            <td>INTEGER</td>\n",
       "            <td>1</td>\n",
       "            <td>None</td>\n",
       "            <td>1</td>\n",
       "        </tr>\n",
       "        <tr>\n",
       "            <td>1</td>\n",
       "            <td>LastName</td>\n",
       "            <td>NVARCHAR(20)</td>\n",
       "            <td>1</td>\n",
       "            <td>None</td>\n",
       "            <td>0</td>\n",
       "        </tr>\n",
       "        <tr>\n",
       "            <td>2</td>\n",
       "            <td>FirstName</td>\n",
       "            <td>NVARCHAR(20)</td>\n",
       "            <td>1</td>\n",
       "            <td>None</td>\n",
       "            <td>0</td>\n",
       "        </tr>\n",
       "        <tr>\n",
       "            <td>3</td>\n",
       "            <td>Title</td>\n",
       "            <td>NVARCHAR(30)</td>\n",
       "            <td>0</td>\n",
       "            <td>None</td>\n",
       "            <td>0</td>\n",
       "        </tr>\n",
       "        <tr>\n",
       "            <td>4</td>\n",
       "            <td>ReportsTo</td>\n",
       "            <td>INTEGER</td>\n",
       "            <td>0</td>\n",
       "            <td>None</td>\n",
       "            <td>0</td>\n",
       "        </tr>\n",
       "        <tr>\n",
       "            <td>5</td>\n",
       "            <td>BirthDate</td>\n",
       "            <td>DATETIME</td>\n",
       "            <td>0</td>\n",
       "            <td>None</td>\n",
       "            <td>0</td>\n",
       "        </tr>\n",
       "        <tr>\n",
       "            <td>6</td>\n",
       "            <td>HireDate</td>\n",
       "            <td>DATETIME</td>\n",
       "            <td>0</td>\n",
       "            <td>None</td>\n",
       "            <td>0</td>\n",
       "        </tr>\n",
       "        <tr>\n",
       "            <td>7</td>\n",
       "            <td>Address</td>\n",
       "            <td>NVARCHAR(70)</td>\n",
       "            <td>0</td>\n",
       "            <td>None</td>\n",
       "            <td>0</td>\n",
       "        </tr>\n",
       "        <tr>\n",
       "            <td>8</td>\n",
       "            <td>City</td>\n",
       "            <td>NVARCHAR(40)</td>\n",
       "            <td>0</td>\n",
       "            <td>None</td>\n",
       "            <td>0</td>\n",
       "        </tr>\n",
       "        <tr>\n",
       "            <td>9</td>\n",
       "            <td>State</td>\n",
       "            <td>NVARCHAR(40)</td>\n",
       "            <td>0</td>\n",
       "            <td>None</td>\n",
       "            <td>0</td>\n",
       "        </tr>\n",
       "        <tr>\n",
       "            <td>10</td>\n",
       "            <td>Country</td>\n",
       "            <td>NVARCHAR(40)</td>\n",
       "            <td>0</td>\n",
       "            <td>None</td>\n",
       "            <td>0</td>\n",
       "        </tr>\n",
       "        <tr>\n",
       "            <td>11</td>\n",
       "            <td>PostalCode</td>\n",
       "            <td>NVARCHAR(10)</td>\n",
       "            <td>0</td>\n",
       "            <td>None</td>\n",
       "            <td>0</td>\n",
       "        </tr>\n",
       "        <tr>\n",
       "            <td>12</td>\n",
       "            <td>Phone</td>\n",
       "            <td>NVARCHAR(24)</td>\n",
       "            <td>0</td>\n",
       "            <td>None</td>\n",
       "            <td>0</td>\n",
       "        </tr>\n",
       "        <tr>\n",
       "            <td>13</td>\n",
       "            <td>Fax</td>\n",
       "            <td>NVARCHAR(24)</td>\n",
       "            <td>0</td>\n",
       "            <td>None</td>\n",
       "            <td>0</td>\n",
       "        </tr>\n",
       "        <tr>\n",
       "            <td>14</td>\n",
       "            <td>Email</td>\n",
       "            <td>NVARCHAR(60)</td>\n",
       "            <td>0</td>\n",
       "            <td>None</td>\n",
       "            <td>0</td>\n",
       "        </tr>\n",
       "    </tbody>\n",
       "</table>"
      ],
      "text/plain": [
       "[(0, 'EmployeeId', 'INTEGER', 1, None, 1),\n",
       " (1, 'LastName', 'NVARCHAR(20)', 1, None, 0),\n",
       " (2, 'FirstName', 'NVARCHAR(20)', 1, None, 0),\n",
       " (3, 'Title', 'NVARCHAR(30)', 0, None, 0),\n",
       " (4, 'ReportsTo', 'INTEGER', 0, None, 0),\n",
       " (5, 'BirthDate', 'DATETIME', 0, None, 0),\n",
       " (6, 'HireDate', 'DATETIME', 0, None, 0),\n",
       " (7, 'Address', 'NVARCHAR(70)', 0, None, 0),\n",
       " (8, 'City', 'NVARCHAR(40)', 0, None, 0),\n",
       " (9, 'State', 'NVARCHAR(40)', 0, None, 0),\n",
       " (10, 'Country', 'NVARCHAR(40)', 0, None, 0),\n",
       " (11, 'PostalCode', 'NVARCHAR(10)', 0, None, 0),\n",
       " (12, 'Phone', 'NVARCHAR(24)', 0, None, 0),\n",
       " (13, 'Fax', 'NVARCHAR(24)', 0, None, 0),\n",
       " (14, 'Email', 'NVARCHAR(60)', 0, None, 0)]"
      ]
     },
     "execution_count": 3,
     "metadata": {},
     "output_type": "execute_result"
    }
   ],
   "source": [
    "%%sql\n",
    "\n",
    "PRAGMA table_info(employees);"
   ]
  },
  {
   "cell_type": "markdown",
   "id": "86802726",
   "metadata": {},
   "source": [
    "### Exercise 2\n",
    "\n",
    "\n",
    "We write a query that shows the age of all employees when they were hired.\n",
    "\n",
    "Return data in the `FirstName` and `LastName` columns and create an `Age when hired` alias for the age from the employees table."
   ]
  },
  {
   "cell_type": "code",
   "execution_count": 13,
   "id": "91f3421f",
   "metadata": {},
   "outputs": [
    {
     "name": "stdout",
     "output_type": "stream",
     "text": [
      " * sqlite:///chinook.db\n",
      "Done.\n"
     ]
    },
    {
     "data": {
      "text/html": [
       "<table>\n",
       "    <thead>\n",
       "        <tr>\n",
       "            <th>FirstName</th>\n",
       "            <th>LastName</th>\n",
       "            <th>Age_when_hired</th>\n",
       "        </tr>\n",
       "    </thead>\n",
       "    <tbody>\n",
       "        <tr>\n",
       "            <td>Andrew</td>\n",
       "            <td>Adams</td>\n",
       "            <td>40</td>\n",
       "        </tr>\n",
       "        <tr>\n",
       "            <td>Nancy</td>\n",
       "            <td>Edwards</td>\n",
       "            <td>44</td>\n",
       "        </tr>\n",
       "        <tr>\n",
       "            <td>Jane</td>\n",
       "            <td>Peacock</td>\n",
       "            <td>29</td>\n",
       "        </tr>\n",
       "        <tr>\n",
       "            <td>Margaret</td>\n",
       "            <td>Park</td>\n",
       "            <td>56</td>\n",
       "        </tr>\n",
       "        <tr>\n",
       "            <td>Steve</td>\n",
       "            <td>Johnson</td>\n",
       "            <td>38</td>\n",
       "        </tr>\n",
       "        <tr>\n",
       "            <td>Michael</td>\n",
       "            <td>Mitchell</td>\n",
       "            <td>30</td>\n",
       "        </tr>\n",
       "        <tr>\n",
       "            <td>Robert</td>\n",
       "            <td>King</td>\n",
       "            <td>34</td>\n",
       "        </tr>\n",
       "        <tr>\n",
       "            <td>Laura</td>\n",
       "            <td>Callahan</td>\n",
       "            <td>36</td>\n",
       "        </tr>\n",
       "    </tbody>\n",
       "</table>"
      ],
      "text/plain": [
       "[('Andrew', 'Adams', 40),\n",
       " ('Nancy', 'Edwards', 44),\n",
       " ('Jane', 'Peacock', 29),\n",
       " ('Margaret', 'Park', 56),\n",
       " ('Steve', 'Johnson', 38),\n",
       " ('Michael', 'Mitchell', 30),\n",
       " ('Robert', 'King', 34),\n",
       " ('Laura', 'Callahan', 36)]"
      ]
     },
     "execution_count": 13,
     "metadata": {},
     "output_type": "execute_result"
    }
   ],
   "source": [
    "%%sql\n",
    "\n",
    "SELECT FirstName, LastName, HireDate - BirthDate AS 'Age_when_hired' FROM employees;"
   ]
  },
  {
   "cell_type": "markdown",
   "id": "f0fade51",
   "metadata": {},
   "source": [
    "### Exercise 3\n",
    "\n",
    "In the context of DateTime SQL objects, the `substr()` function allows us to trim or extract certain information within the date or time. We use it by specifying the string and the indices from which to show data, i.e.\n",
    "`substr(datetime_column,start_index, end_index)`\n",
    "\n",
    "Write a query that calculates the month-to-month revenue at Chinook. \n",
    "\n",
    "Return the month and revenue and use aliases to name the calculated columns appropriately."
   ]
  },
  {
   "cell_type": "code",
   "execution_count": null,
   "id": "748f4263",
   "metadata": {},
   "outputs": [
    {
     "name": "stdout",
     "output_type": "stream",
     "text": [
      " * sqlite:///chinook.db\n",
      "Done.\n"
     ]
    },
    {
     "data": {
      "text/html": [
       "<table>\n",
       "    <thead>\n",
       "        <tr>\n",
       "            <th>Invoice_Month</th>\n",
       "            <th>Monthly_Revenue</th>\n",
       "        </tr>\n",
       "    </thead>\n",
       "    <tbody>\n",
       "        <tr>\n",
       "            <td>2009-01</td>\n",
       "            <td>35.64</td>\n",
       "        </tr>\n",
       "        <tr>\n",
       "            <td>2009-02</td>\n",
       "            <td>37.62</td>\n",
       "        </tr>\n",
       "        <tr>\n",
       "            <td>2009-03</td>\n",
       "            <td>37.62</td>\n",
       "        </tr>\n",
       "        <tr>\n",
       "            <td>2009-04</td>\n",
       "            <td>37.62</td>\n",
       "        </tr>\n",
       "        <tr>\n",
       "            <td>2009-05</td>\n",
       "            <td>37.62</td>\n",
       "        </tr>\n",
       "        <tr>\n",
       "            <td>2009-06</td>\n",
       "            <td>37.62</td>\n",
       "        </tr>\n",
       "        <tr>\n",
       "            <td>2009-07</td>\n",
       "            <td>37.62</td>\n",
       "        </tr>\n",
       "        <tr>\n",
       "            <td>2009-08</td>\n",
       "            <td>37.62</td>\n",
       "        </tr>\n",
       "        <tr>\n",
       "            <td>2009-09</td>\n",
       "            <td>37.62</td>\n",
       "        </tr>\n",
       "        <tr>\n",
       "            <td>2009-10</td>\n",
       "            <td>37.62</td>\n",
       "        </tr>\n",
       "        <tr>\n",
       "            <td>2009-11</td>\n",
       "            <td>37.62</td>\n",
       "        </tr>\n",
       "        <tr>\n",
       "            <td>2009-12</td>\n",
       "            <td>37.62</td>\n",
       "        </tr>\n",
       "        <tr>\n",
       "            <td>2010-01</td>\n",
       "            <td>52.62</td>\n",
       "        </tr>\n",
       "        <tr>\n",
       "            <td>2010-02</td>\n",
       "            <td>46.62</td>\n",
       "        </tr>\n",
       "        <tr>\n",
       "            <td>2010-03</td>\n",
       "            <td>44.62</td>\n",
       "        </tr>\n",
       "        <tr>\n",
       "            <td>2010-04</td>\n",
       "            <td>37.62</td>\n",
       "        </tr>\n",
       "        <tr>\n",
       "            <td>2010-05</td>\n",
       "            <td>37.62</td>\n",
       "        </tr>\n",
       "        <tr>\n",
       "            <td>2010-06</td>\n",
       "            <td>37.62</td>\n",
       "        </tr>\n",
       "        <tr>\n",
       "            <td>2010-07</td>\n",
       "            <td>37.62</td>\n",
       "        </tr>\n",
       "        <tr>\n",
       "            <td>2010-08</td>\n",
       "            <td>37.62</td>\n",
       "        </tr>\n",
       "        <tr>\n",
       "            <td>2010-09</td>\n",
       "            <td>36.63</td>\n",
       "        </tr>\n",
       "        <tr>\n",
       "            <td>2010-10</td>\n",
       "            <td>37.62</td>\n",
       "        </tr>\n",
       "        <tr>\n",
       "            <td>2010-11</td>\n",
       "            <td>37.62</td>\n",
       "        </tr>\n",
       "        <tr>\n",
       "            <td>2010-12</td>\n",
       "            <td>37.62</td>\n",
       "        </tr>\n",
       "        <tr>\n",
       "            <td>2011-01</td>\n",
       "            <td>37.62</td>\n",
       "        </tr>\n",
       "        <tr>\n",
       "            <td>2011-02</td>\n",
       "            <td>37.62</td>\n",
       "        </tr>\n",
       "        <tr>\n",
       "            <td>2011-03</td>\n",
       "            <td>37.62</td>\n",
       "        </tr>\n",
       "        <tr>\n",
       "            <td>2011-04</td>\n",
       "            <td>51.62</td>\n",
       "        </tr>\n",
       "        <tr>\n",
       "            <td>2011-05</td>\n",
       "            <td>42.62</td>\n",
       "        </tr>\n",
       "        <tr>\n",
       "            <td>2011-06</td>\n",
       "            <td>50.62</td>\n",
       "        </tr>\n",
       "        <tr>\n",
       "            <td>2011-07</td>\n",
       "            <td>37.62</td>\n",
       "        </tr>\n",
       "        <tr>\n",
       "            <td>2011-08</td>\n",
       "            <td>37.62</td>\n",
       "        </tr>\n",
       "        <tr>\n",
       "            <td>2011-09</td>\n",
       "            <td>37.62</td>\n",
       "        </tr>\n",
       "        <tr>\n",
       "            <td>2011-10</td>\n",
       "            <td>37.62</td>\n",
       "        </tr>\n",
       "        <tr>\n",
       "            <td>2011-11</td>\n",
       "            <td>23.76</td>\n",
       "        </tr>\n",
       "        <tr>\n",
       "            <td>2011-12</td>\n",
       "            <td>37.62</td>\n",
       "        </tr>\n",
       "        <tr>\n",
       "            <td>2012-01</td>\n",
       "            <td>37.62</td>\n",
       "        </tr>\n",
       "        <tr>\n",
       "            <td>2012-02</td>\n",
       "            <td>37.62</td>\n",
       "        </tr>\n",
       "        <tr>\n",
       "            <td>2012-03</td>\n",
       "            <td>37.62</td>\n",
       "        </tr>\n",
       "        <tr>\n",
       "            <td>2012-04</td>\n",
       "            <td>37.62</td>\n",
       "        </tr>\n",
       "        <tr>\n",
       "            <td>2012-05</td>\n",
       "            <td>37.62</td>\n",
       "        </tr>\n",
       "        <tr>\n",
       "            <td>2012-06</td>\n",
       "            <td>37.62</td>\n",
       "        </tr>\n",
       "        <tr>\n",
       "            <td>2012-07</td>\n",
       "            <td>39.62</td>\n",
       "        </tr>\n",
       "        <tr>\n",
       "            <td>2012-08</td>\n",
       "            <td>47.62</td>\n",
       "        </tr>\n",
       "        <tr>\n",
       "            <td>2012-09</td>\n",
       "            <td>46.71</td>\n",
       "        </tr>\n",
       "        <tr>\n",
       "            <td>2012-10</td>\n",
       "            <td>42.62</td>\n",
       "        </tr>\n",
       "        <tr>\n",
       "            <td>2012-11</td>\n",
       "            <td>37.62</td>\n",
       "        </tr>\n",
       "        <tr>\n",
       "            <td>2012-12</td>\n",
       "            <td>37.62</td>\n",
       "        </tr>\n",
       "        <tr>\n",
       "            <td>2013-01</td>\n",
       "            <td>37.62</td>\n",
       "        </tr>\n",
       "        <tr>\n",
       "            <td>2013-02</td>\n",
       "            <td>27.72</td>\n",
       "        </tr>\n",
       "        <tr>\n",
       "            <td>2013-03</td>\n",
       "            <td>37.62</td>\n",
       "        </tr>\n",
       "        <tr>\n",
       "            <td>2013-04</td>\n",
       "            <td>33.66</td>\n",
       "        </tr>\n",
       "        <tr>\n",
       "            <td>2013-05</td>\n",
       "            <td>37.62</td>\n",
       "        </tr>\n",
       "        <tr>\n",
       "            <td>2013-06</td>\n",
       "            <td>37.62</td>\n",
       "        </tr>\n",
       "        <tr>\n",
       "            <td>2013-07</td>\n",
       "            <td>37.62</td>\n",
       "        </tr>\n",
       "        <tr>\n",
       "            <td>2013-08</td>\n",
       "            <td>37.62</td>\n",
       "        </tr>\n",
       "        <tr>\n",
       "            <td>2013-09</td>\n",
       "            <td>37.62</td>\n",
       "        </tr>\n",
       "        <tr>\n",
       "            <td>2013-10</td>\n",
       "            <td>37.62</td>\n",
       "        </tr>\n",
       "        <tr>\n",
       "            <td>2013-11</td>\n",
       "            <td>49.62</td>\n",
       "        </tr>\n",
       "        <tr>\n",
       "            <td>2013-12</td>\n",
       "            <td>38.62</td>\n",
       "        </tr>\n",
       "    </tbody>\n",
       "</table>"
      ],
      "text/plain": [
       "[('2009-01', 35.64),\n",
       " ('2009-02', 37.62),\n",
       " ('2009-03', 37.62),\n",
       " ('2009-04', 37.62),\n",
       " ('2009-05', 37.62),\n",
       " ('2009-06', 37.62),\n",
       " ('2009-07', 37.62),\n",
       " ('2009-08', 37.62),\n",
       " ('2009-09', 37.62),\n",
       " ('2009-10', 37.62),\n",
       " ('2009-11', 37.62),\n",
       " ('2009-12', 37.62),\n",
       " ('2010-01', 52.62),\n",
       " ('2010-02', 46.62),\n",
       " ('2010-03', 44.62),\n",
       " ('2010-04', 37.62),\n",
       " ('2010-05', 37.62),\n",
       " ('2010-06', 37.62),\n",
       " ('2010-07', 37.62),\n",
       " ('2010-08', 37.62),\n",
       " ('2010-09', 36.63),\n",
       " ('2010-10', 37.62),\n",
       " ('2010-11', 37.62),\n",
       " ('2010-12', 37.62),\n",
       " ('2011-01', 37.62),\n",
       " ('2011-02', 37.62),\n",
       " ('2011-03', 37.62),\n",
       " ('2011-04', 51.62),\n",
       " ('2011-05', 42.62),\n",
       " ('2011-06', 50.62),\n",
       " ('2011-07', 37.62),\n",
       " ('2011-08', 37.62),\n",
       " ('2011-09', 37.62),\n",
       " ('2011-10', 37.62),\n",
       " ('2011-11', 23.76),\n",
       " ('2011-12', 37.62),\n",
       " ('2012-01', 37.62),\n",
       " ('2012-02', 37.62),\n",
       " ('2012-03', 37.62),\n",
       " ('2012-04', 37.62),\n",
       " ('2012-05', 37.62),\n",
       " ('2012-06', 37.62),\n",
       " ('2012-07', 39.62),\n",
       " ('2012-08', 47.62),\n",
       " ('2012-09', 46.71),\n",
       " ('2012-10', 42.62),\n",
       " ('2012-11', 37.62),\n",
       " ('2012-12', 37.62),\n",
       " ('2013-01', 37.62),\n",
       " ('2013-02', 27.72),\n",
       " ('2013-03', 37.62),\n",
       " ('2013-04', 33.66),\n",
       " ('2013-05', 37.62),\n",
       " ('2013-06', 37.62),\n",
       " ('2013-07', 37.62),\n",
       " ('2013-08', 37.62),\n",
       " ('2013-09', 37.62),\n",
       " ('2013-10', 37.62),\n",
       " ('2013-11', 49.62),\n",
       " ('2013-12', 38.62)]"
      ]
     },
     "execution_count": 34,
     "metadata": {},
     "output_type": "execute_result"
    }
   ],
   "source": [
    "%%sql\n",
    "\n",
    "SELECT \n",
    "    substr(InvoiceDate, 1, 7) AS Invoice_Month,  -- Extracts 'YYYY-MM'\n",
    "    ROUND(SUM(Total), 2) AS Monthly_Revenue\n",
    "FROM \n",
    "    invoices\n",
    "GROUP BY \n",
    "    Invoice_Month\n",
    "ORDER BY \n",
    "    Invoice_Month;\n"
   ]
  },
  {
   "cell_type": "markdown",
   "id": "f28aef00",
   "metadata": {},
   "source": [
    "### Exercise 4\n",
    "\n",
    "Write a query that calculates the year-to-year revenue at Chinook."
   ]
  },
  {
   "cell_type": "code",
   "execution_count": 37,
   "id": "f4621a53",
   "metadata": {},
   "outputs": [
    {
     "name": "stdout",
     "output_type": "stream",
     "text": [
      " * sqlite:///chinook.db\n",
      "Done.\n"
     ]
    },
    {
     "data": {
      "text/html": [
       "<table>\n",
       "    <thead>\n",
       "        <tr>\n",
       "            <th>Invoice_Year</th>\n",
       "            <th>Yearly_Revenue</th>\n",
       "        </tr>\n",
       "    </thead>\n",
       "    <tbody>\n",
       "        <tr>\n",
       "            <td>2009</td>\n",
       "            <td>449.46</td>\n",
       "        </tr>\n",
       "        <tr>\n",
       "            <td>2010</td>\n",
       "            <td>481.45</td>\n",
       "        </tr>\n",
       "        <tr>\n",
       "            <td>2011</td>\n",
       "            <td>469.58</td>\n",
       "        </tr>\n",
       "        <tr>\n",
       "            <td>2012</td>\n",
       "            <td>477.53</td>\n",
       "        </tr>\n",
       "        <tr>\n",
       "            <td>2013</td>\n",
       "            <td>450.58</td>\n",
       "        </tr>\n",
       "    </tbody>\n",
       "</table>"
      ],
      "text/plain": [
       "[('2009', 449.46),\n",
       " ('2010', 481.45),\n",
       " ('2011', 469.58),\n",
       " ('2012', 477.53),\n",
       " ('2013', 450.58)]"
      ]
     },
     "execution_count": 37,
     "metadata": {},
     "output_type": "execute_result"
    }
   ],
   "source": [
    "%%sql\n",
    "\n",
    "SELECT \n",
    "    substr(InvoiceDate, 1, 4) AS Invoice_Year,  -- Extracts 'YYYY'\n",
    "    ROUND(SUM(Total), 2) AS Yearly_Revenue\n",
    "FROM \n",
    "    invoices\n",
    "GROUP BY \n",
    "    Invoice_Year\n",
    "ORDER BY \n",
    "    Invoice_Year;\n"
   ]
  },
  {
   "cell_type": "markdown",
   "id": "7a51093c",
   "metadata": {},
   "source": [
    "### Exercise 5\n",
    "\n",
    "Write a query that returns employees who were hired after 2002-08-14 and before 2003-10-17."
   ]
  },
  {
   "cell_type": "code",
   "execution_count": 44,
   "id": "99479d5f",
   "metadata": {},
   "outputs": [
    {
     "name": "stdout",
     "output_type": "stream",
     "text": [
      " * sqlite:///chinook.db\n",
      "Done.\n"
     ]
    },
    {
     "data": {
      "text/html": [
       "<table>\n",
       "    <thead>\n",
       "        <tr>\n",
       "            <th>FirstName</th>\n",
       "            <th>LastName</th>\n",
       "            <th>HireDate</th>\n",
       "        </tr>\n",
       "    </thead>\n",
       "    <tbody>\n",
       "        <tr>\n",
       "            <td>Andrew</td>\n",
       "            <td>Adams</td>\n",
       "            <td>2002-08-14 00:00:00</td>\n",
       "        </tr>\n",
       "        <tr>\n",
       "            <td>Margaret</td>\n",
       "            <td>Park</td>\n",
       "            <td>2003-05-03 00:00:00</td>\n",
       "        </tr>\n",
       "    </tbody>\n",
       "</table>"
      ],
      "text/plain": [
       "[('Andrew', 'Adams', '2002-08-14 00:00:00'),\n",
       " ('Margaret', 'Park', '2003-05-03 00:00:00')]"
      ]
     },
     "execution_count": 44,
     "metadata": {},
     "output_type": "execute_result"
    }
   ],
   "source": [
    "%%sql\n",
    "\n",
    "SELECT FirstName,\n",
    "    LastName,\n",
    "    HireDate\n",
    "FROM employees\n",
    "WHERE HireDate BETWEEN '2002-08-14' AND '2003-10-17';\n"
   ]
  },
  {
   "cell_type": "markdown",
   "id": "b3c88335",
   "metadata": {},
   "source": [
    "## Solutions"
   ]
  },
  {
   "cell_type": "markdown",
   "id": "a5084b12",
   "metadata": {},
   "source": [
    "### Exercise 1"
   ]
  },
  {
   "cell_type": "code",
   "execution_count": null,
   "id": "c968d875",
   "metadata": {
    "scrolled": true
   },
   "outputs": [],
   "source": [
    "%%sql\n",
    "\n",
    "PRAGMA table_info(employees);"
   ]
  },
  {
   "cell_type": "markdown",
   "id": "294d8eef",
   "metadata": {},
   "source": [
    "### Exercise 2"
   ]
  },
  {
   "cell_type": "code",
   "execution_count": null,
   "id": "03071e34",
   "metadata": {},
   "outputs": [],
   "source": [
    "%%sql\n",
    "\n",
    "SELECT \n",
    "    FirstName, \n",
    "    LastName, \n",
    "    HireDate - BirthDate AS \"Age when hired\"\n",
    "FROM \n",
    "    employees\n",
    "ORDER BY 3;"
   ]
  },
  {
   "cell_type": "markdown",
   "id": "13e9f288",
   "metadata": {},
   "source": [
    "The \"Age when hired\" column contains INTERVAL type data, i.e. in years in this case. In other words, we subtracted two dates to obtain an interval value."
   ]
  },
  {
   "cell_type": "markdown",
   "id": "eafe40b6",
   "metadata": {},
   "source": [
    "### Exercise 3"
   ]
  },
  {
   "cell_type": "code",
   "execution_count": null,
   "id": "1ffd2239",
   "metadata": {},
   "outputs": [],
   "source": [
    "%%sql\n",
    "\n",
    "SELECT \n",
    "    SUBSTR(InvoiceDate,1,7) AS \"Month\", \n",
    "    SUM(Total) AS \"Revenue\"\n",
    "FROM \n",
    "    invoices\n",
    "GROUP BY 1\n",
    "ORDER BY 1\n",
    "LIMIT 10;\n"
   ]
  },
  {
   "cell_type": "markdown",
   "id": "e9956efe",
   "metadata": {},
   "source": [
    "### Exercise 4"
   ]
  },
  {
   "cell_type": "code",
   "execution_count": null,
   "id": "cd662edc",
   "metadata": {},
   "outputs": [],
   "source": [
    "%%sql\n",
    "\n",
    "SELECT \n",
    "    SUBSTR(InvoiceDate,1,4) AS \"Year\", \n",
    "    ROUND(SUM(Total),2) AS \"Revenue\"\n",
    "FROM invoices\n",
    "GROUP BY 1\n",
    "ORDER BY 1;"
   ]
  },
  {
   "cell_type": "markdown",
   "id": "c1341a11",
   "metadata": {},
   "source": [
    "### Exercise 5"
   ]
  },
  {
   "cell_type": "code",
   "execution_count": null,
   "id": "9a0cf068",
   "metadata": {},
   "outputs": [],
   "source": [
    "%%sql \n",
    "\n",
    "SELECT \n",
    "    *\n",
    "FROM \n",
    "    employees\n",
    "WHERE \n",
    "    HireDate between '2002-08-14' AND '2003-10-17';"
   ]
  },
  {
   "cell_type": "markdown",
   "id": "ad808bf0",
   "metadata": {},
   "source": [
    "We can achieve the same result using standard comparison operators such as <, >, and =."
   ]
  },
  {
   "cell_type": "code",
   "execution_count": null,
   "id": "38342577",
   "metadata": {},
   "outputs": [],
   "source": [
    "%%sql \n",
    "\n",
    "SELECT \n",
    "      *\n",
    "FROM \n",
    "      employees\n",
    "WHERE \n",
    "      HireDate > '2002-08-14' AND\n",
    "      HireDate < '2003-10-17';"
   ]
  },
  {
   "cell_type": "markdown",
   "id": "6d8d9bdd",
   "metadata": {},
   "source": [
    "<div align=\"center\" style=\" font-size: 80%; text-align: center; margin: 0 auto\">\n",
    "<img src=\"https://raw.githubusercontent.com/Explore-AI/Pictures/master/ExploreAI_logos/EAI_Blue_Dark.png\"  style=\"width:200px\";/>\n",
    "</div>"
   ]
  }
 ],
 "metadata": {
  "kernelspec": {
   "display_name": "DS_Python",
   "language": "python",
   "name": "python3"
  },
  "language_info": {
   "codemirror_mode": {
    "name": "ipython",
    "version": 3
   },
   "file_extension": ".py",
   "mimetype": "text/x-python",
   "name": "python",
   "nbconvert_exporter": "python",
   "pygments_lexer": "ipython3",
   "version": "3.11.7"
  }
 },
 "nbformat": 4,
 "nbformat_minor": 5
}
